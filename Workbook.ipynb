{
 "cells": [
  {
   "cell_type": "code",
   "execution_count": 2,
   "id": "c7a190c5",
   "metadata": {},
   "outputs": [],
   "source": [
    "import smtplib"
   ]
  },
  {
   "cell_type": "code",
   "execution_count": 3,
   "id": "5cf4212d",
   "metadata": {},
   "outputs": [],
   "source": [
    "smtp_object  = smtplib.SMTP(\"smtp.gmail.com\", 587)"
   ]
  },
  {
   "cell_type": "code",
   "execution_count": 5,
   "id": "f2cf8c39",
   "metadata": {},
   "outputs": [
    {
     "data": {
      "text/plain": [
       "(250,\n",
       " b'smtp.gmail.com at your service, [2a02:c7c:31cb:7500:c0d5:ab2d:3c0b:5dec]\\nSIZE 35882577\\n8BITMIME\\nSTARTTLS\\nENHANCEDSTATUSCODES\\nPIPELINING\\nCHUNKING\\nSMTPUTF8')"
      ]
     },
     "execution_count": 5,
     "metadata": {},
     "output_type": "execute_result"
    }
   ],
   "source": [
    "smtp_object.ehlo()"
   ]
  },
  {
   "cell_type": "code",
   "execution_count": 6,
   "id": "b5619908",
   "metadata": {},
   "outputs": [
    {
     "data": {
      "text/plain": [
       "(220, b'2.0.0 Ready to start TLS')"
      ]
     },
     "execution_count": 6,
     "metadata": {},
     "output_type": "execute_result"
    }
   ],
   "source": [
    "smtp_object.starttls()"
   ]
  },
  {
   "cell_type": "code",
   "execution_count": 7,
   "id": "244e9147",
   "metadata": {},
   "outputs": [],
   "source": [
    "import getpass"
   ]
  },
  {
   "cell_type": "code",
   "execution_count": 8,
   "id": "68612432",
   "metadata": {},
   "outputs": [
    {
     "name": "stdout",
     "output_type": "stream",
     "text": [
      "Please input your password: ········\n"
     ]
    }
   ],
   "source": [
    "password = getpass.getpass(\"Please input your password: \")"
   ]
  },
  {
   "cell_type": "code",
   "execution_count": 10,
   "id": "7677d765",
   "metadata": {},
   "outputs": [
    {
     "name": "stdout",
     "output_type": "stream",
     "text": [
      "Please input your email: ········\n",
      "Please input your password: ········\n"
     ]
    },
    {
     "data": {
      "text/plain": [
       "(235, b'2.7.0 Accepted')"
      ]
     },
     "execution_count": 10,
     "metadata": {},
     "output_type": "execute_result"
    }
   ],
   "source": [
    "#yxhquttywtuhbjxa\n",
    "email = getpass.getpass(\"Please input your email: \")\n",
    "password = getpass.getpass(\"Please input your password: \")\n",
    "smtp_object.login(email,password)"
   ]
  },
  {
   "cell_type": "code",
   "execution_count": 13,
   "id": "a97355dd",
   "metadata": {},
   "outputs": [
    {
     "name": "stdout",
     "output_type": "stream",
     "text": [
      "enter the subject: Good Morning \n",
      "enter the message: Sent this email using python\n"
     ]
    },
    {
     "data": {
      "text/plain": [
       "{}"
      ]
     },
     "execution_count": 13,
     "metadata": {},
     "output_type": "execute_result"
    }
   ],
   "source": [
    "from_address = email \n",
    "to_address = \"bidemielelu05@gmail.com\"\n",
    "subject = input(\"enter the subject: \")\n",
    "message = input(\"enter the message: \")\n",
    "msg = \"Subject: \" + subject + \"\\n\" + message \n",
    "\n",
    "smtp_object.sendmail(from_address,to_address,msg)"
   ]
  },
  {
   "cell_type": "code",
   "execution_count": 14,
   "id": "838c754b",
   "metadata": {},
   "outputs": [
    {
     "data": {
      "text/plain": [
       "(221,\n",
       " b'2.0.0 closing connection g8-20020a5d4888000000b0031912c0ffebsm11918915wrq.23 - gsmtp')"
      ]
     },
     "execution_count": 14,
     "metadata": {},
     "output_type": "execute_result"
    }
   ],
   "source": [
    "smtp_object.quit()"
   ]
  },
  {
   "cell_type": "code",
   "execution_count": 15,
   "id": "6e8387ac",
   "metadata": {},
   "outputs": [],
   "source": [
    "import imaplib"
   ]
  },
  {
   "cell_type": "code",
   "execution_count": 16,
   "id": "55b741c5",
   "metadata": {},
   "outputs": [],
   "source": [
    "M = imaplib.IMAP4_SSL(\"imap.gmail.com\")"
   ]
  },
  {
   "cell_type": "code",
   "execution_count": 17,
   "id": "a0db0dc7",
   "metadata": {},
   "outputs": [],
   "source": [
    "import getpass"
   ]
  },
  {
   "cell_type": "code",
   "execution_count": 18,
   "id": "392e58b1",
   "metadata": {},
   "outputs": [
    {
     "name": "stdout",
     "output_type": "stream",
     "text": [
      "Please input your email: ········\n",
      "Please input your password: ········\n"
     ]
    }
   ],
   "source": [
    "#uxvxvifkjjcftday\n",
    "email = getpass.getpass(\"Please input your email: \")\n",
    "password = getpass.getpass(\"Please input your password: \")"
   ]
  },
  {
   "cell_type": "code",
   "execution_count": 19,
   "id": "b209107f",
   "metadata": {},
   "outputs": [
    {
     "data": {
      "text/plain": [
       "('OK', [b'bunoujr@gmail.com authenticated (Success)'])"
      ]
     },
     "execution_count": 19,
     "metadata": {},
     "output_type": "execute_result"
    }
   ],
   "source": [
    "M.login(email,password)"
   ]
  },
  {
   "cell_type": "code",
   "execution_count": 20,
   "id": "b51c8d6b",
   "metadata": {},
   "outputs": [
    {
     "data": {
      "text/plain": [
       "('OK',\n",
       " [b'(\\\\HasNoChildren) \"/\" \"INBOX\"',\n",
       "  b'(\\\\HasNoChildren) \"/\" \"Junk\"',\n",
       "  b'(\\\\HasNoChildren) \"/\" \"Notes\"',\n",
       "  b'(\\\\HasChildren \\\\Noselect) \"/\" \"[Gmail]\"',\n",
       "  b'(\\\\All \\\\HasNoChildren) \"/\" \"[Gmail]/All Mail\"',\n",
       "  b'(\\\\Drafts \\\\HasNoChildren) \"/\" \"[Gmail]/Drafts\"',\n",
       "  b'(\\\\HasNoChildren \\\\Important) \"/\" \"[Gmail]/Important\"',\n",
       "  b'(\\\\HasNoChildren \\\\Sent) \"/\" \"[Gmail]/Sent Mail\"',\n",
       "  b'(\\\\HasNoChildren \\\\Junk) \"/\" \"[Gmail]/Spam\"',\n",
       "  b'(\\\\Flagged \\\\HasNoChildren) \"/\" \"[Gmail]/Starred\"',\n",
       "  b'(\\\\HasNoChildren \\\\Trash) \"/\" \"[Gmail]/Trash\"'])"
      ]
     },
     "execution_count": 20,
     "metadata": {},
     "output_type": "execute_result"
    }
   ],
   "source": [
    "M.list()"
   ]
  },
  {
   "cell_type": "code",
   "execution_count": 21,
   "id": "16f108a3",
   "metadata": {},
   "outputs": [
    {
     "data": {
      "text/plain": [
       "('OK', [b'30239'])"
      ]
     },
     "execution_count": 21,
     "metadata": {},
     "output_type": "execute_result"
    }
   ],
   "source": [
    "M.select(\"inbox\")"
   ]
  },
  {
   "cell_type": "code",
   "execution_count": 24,
   "id": "f5238290",
   "metadata": {},
   "outputs": [],
   "source": [
    "typ, data = M.search(None, \"SINCE 09-SEP-2023\")"
   ]
  },
  {
   "cell_type": "code",
   "execution_count": 25,
   "id": "2c1e4a08",
   "metadata": {},
   "outputs": [
    {
     "data": {
      "text/plain": [
       "'OK'"
      ]
     },
     "execution_count": 25,
     "metadata": {},
     "output_type": "execute_result"
    }
   ],
   "source": [
    "typ"
   ]
  },
  {
   "cell_type": "code",
   "execution_count": 29,
   "id": "ba23f132",
   "metadata": {},
   "outputs": [
    {
     "data": {
      "text/plain": [
       "b'30180 30181 30182 30183 30184 30185 30186 30187 30188 30189 30190 30191 30192 30193 30194 30195 30196 30197 30198 30199 30200 30201 30202 30203 30204 30205 30206 30207 30208 30209 30210 30211 30212 30213 30214 30215 30216 30217 30218 30219 30220 30221 30222 30223 30224 30225 30226 30227 30228 30229 30230 30231 30232 30233 30234 30235 30236 30237 30238 30239'"
      ]
     },
     "execution_count": 29,
     "metadata": {},
     "output_type": "execute_result"
    }
   ],
   "source": [
    "data[0]"
   ]
  },
  {
   "cell_type": "code",
   "execution_count": 31,
   "id": "9660b094",
   "metadata": {},
   "outputs": [],
   "source": [
    "result, email_data = M.fetch(\"30181\",\"(RFC822)\")"
   ]
  },
  {
   "cell_type": "code",
   "execution_count": 32,
   "id": "dbf1922d",
   "metadata": {},
   "outputs": [
    {
     "data": {
      "text/plain": [
       "[(b'30181 (RFC822 {30676}',\n",
       "  b'Delivered-To: bunoujr@gmail.com\\r\\nReceived: by 2002:a05:7010:c182:b0:37a:1e57:9bd6 with SMTP id ka2csp864620mdb;\\r\\n        Fri, 8 Sep 2023 17:49:25 -0700 (PDT)\\r\\nX-Google-Smtp-Source: AGHT+IELdy9y1kQVv0crMPzSLGxa4JD8Y0SLtgnnzPHZ1WhxTnV+O9UGQw2AzLMbx0T1yNCHcwF+\\r\\nX-Received: by 2002:a05:620a:9dd:b0:76c:ea6c:59a3 with SMTP id y29-20020a05620a09dd00b0076cea6c59a3mr3404431qky.46.1694220565461;\\r\\n        Fri, 08 Sep 2023 17:49:25 -0700 (PDT)\\r\\nARC-Seal: i=1; a=rsa-sha256; t=1694220565; cv=none;\\r\\n        d=google.com; s=arc-20160816;\\r\\n        b=yqdk1XM/EVilWG0E/ynyK1ikgL4A0e883Oj6s+gL+6Q7hGKo1DtQhJhjEd8rr/axhY\\r\\n         uPKyB4FFeq0GmSoCqhsF4tCh5oOBPw5d5tPar/6tgzcu22xN31v8Gtg68hXD488CPL6v\\r\\n         cdE0Y5jgDe5FzV2pTs1oW1ClXW3BuAxyHfTDv2IUty82Rtz/lmk8+ThT+i94VvM/hUju\\r\\n         ptThpHcc8hmasq4UnzrEWOqRq16qerjkvHSFdzpSxOUfT/+0IxfmkAYy2DcEmyw6y5Po\\r\\n         soXIXgtKdEhRoU9ZgYUbhiHpEElcHVbS3VHbSMnJjRHcsOrPiWtf0wI0lZWitvnoOI22\\r\\n         +vHA==\\r\\nARC-Message-Signature: i=1; a=rsa-sha256; c=relaxed/relaxed; d=google.com; s=arc-20160816;\\r\\n        h=to:reply-to:subject:message-id:mime-version:from:date\\r\\n         :content-transfer-encoding:dkim-signature:dkim-signature;\\r\\n        bh=BpE1Zl4ycirqgwQrUOmyJcy/VWshCw46s8MzywrBgjE=;\\r\\n        fh=BXOuE2sFSD9iDuNE+0594nsKVIPgYFkl45QZ8NOm7ac=;\\r\\n        b=jlj3Dm2PLSP3MqG0vqRZZHgR1zECt0l9geFnqO9hxU30YxFKg6feCEUsObDHlmQPue\\r\\n         b5teAhomI3v64QWjYvQH84QqOJWrfIL83kFLoqU8if1UhYX8850sHCglutNKA7EGRZ0K\\r\\n         ZE1zn/e4mJ+oCFM59ht8gTw0TVAf2agx63ThyPspx+obPXFx3HQ96jkbMIdY9aq3Ou0S\\r\\n         epqdtnLEGZSsdmefnjXQ7ajK0LPHTW83ik0S0kwvzZiDCIJxqSnNKfVosZ+4Hpp/OcLm\\r\\n         ASnW+lnte2kTfHtqH1IQtxj518W2UsjwthM39j3UXpZZCi70vkovkEFzMY1ydX9E2WWH\\r\\n         mNNA==\\r\\nARC-Authentication-Results: i=1; mx.google.com;\\r\\n       dkim=pass header.i=@glassdoor.com header.s=s1 header.b=oUAeeELE;\\r\\n       dkim=pass header.i=@sendgrid.info header.s=smtpapi header.b=brjjVeFa;\\r\\n       spf=pass (google.com: domain of bounces+361267-19a3-bunoujr=gmail.com@mail9.glassdoor.com designates 50.31.57.250 as permitted sender) smtp.mailfrom=\"bounces+361267-19a3-bunoujr=gmail.com@mail9.glassdoor.com\";\\r\\n       dmarc=pass (p=QUARANTINE sp=QUARANTINE dis=NONE) header.from=glassdoor.com\\r\\nReturn-Path: <bounces+361267-19a3-bunoujr=gmail.com@mail9.glassdoor.com>\\r\\nReceived: from o1.mail8.glassdoor.com (o1.mail8.glassdoor.com. [50.31.57.250])\\r\\n        by mx.google.com with ESMTPS id dl9-20020a05620a1d0900b0076cc12a2303si1700931qkb.207.2023.09.08.17.49.24\\r\\n        for <bunoujr@gmail.com>\\r\\n        (version=TLS1_3 cipher=TLS_AES_128_GCM_SHA256 bits=128/128);\\r\\n        Fri, 08 Sep 2023 17:49:25 -0700 (PDT)\\r\\nReceived-SPF: pass (google.com: domain of bounces+361267-19a3-bunoujr=gmail.com@mail9.glassdoor.com designates 50.31.57.250 as permitted sender) client-ip=50.31.57.250;\\r\\nAuthentication-Results: mx.google.com;\\r\\n       dkim=pass header.i=@glassdoor.com header.s=s1 header.b=oUAeeELE;\\r\\n       dkim=pass header.i=@sendgrid.info header.s=smtpapi header.b=brjjVeFa;\\r\\n       spf=pass (google.com: domain of bounces+361267-19a3-bunoujr=gmail.com@mail9.glassdoor.com designates 50.31.57.250 as permitted sender) smtp.mailfrom=\"bounces+361267-19a3-bunoujr=gmail.com@mail9.glassdoor.com\";\\r\\n       dmarc=pass (p=QUARANTINE sp=QUARANTINE dis=NONE) header.from=glassdoor.com\\r\\nDKIM-Signature: v=1; a=rsa-sha256; c=relaxed/relaxed; d=glassdoor.com;\\r\\n\\th=content-transfer-encoding:content-type:from:mime-version:subject:\\r\\n\\treply-to:x-feedback-id:to:cc:content-type:from:subject:to;\\r\\n\\ts=s1; bh=BpE1Zl4ycirqgwQrUOmyJcy/VWshCw46s8MzywrBgjE=;\\r\\n\\tb=oUAeeELEZdY7IAmG+TvAW6ltAku6VSWJi8lIMAETqLU/yHrRO6RxvLYGlPjYUcMjinLB\\r\\n\\tc5QrEuwcUGqvr14McSLdHmBKAuxM2y1h9MQ+LLUPJTK/C6IbY7g6Hmk8XvipwgbTMMBofo\\r\\n\\tK5+JOgEEqzHL4VARB76X/qKOMAMneKWzEtgYKuLZ8Ezv/ezE4CiYhM+Um/Nz2ZSpRvX88X\\r\\n\\tKqCPnG8QNv9r8zJNuq5TqzwyKANILOm0JI7x4zkFJeO/dph3zHIt0YavkyrOUyouKfJfZj\\r\\n\\te4+dRWB6lA5AcyPQQwhfhyXQ2HAf0RvENaT6dMLt1+RnPIa0bw7/Ou6pajEnsjiA==\\r\\nDKIM-Signature: v=1; a=rsa-sha256; c=relaxed/relaxed; d=sendgrid.info;\\r\\n\\th=content-transfer-encoding:content-type:from:mime-version:subject:\\r\\n\\treply-to:x-feedback-id:to:cc:content-type:from:subject:to;\\r\\n\\ts=smtpapi; bh=BpE1Zl4ycirqgwQrUOmyJcy/VWshCw46s8MzywrBgjE=;\\r\\n\\tb=brjjVeFaDZ25rKA03WOUEWu8nRIWuGwoIoFra/AWqiDSFT5+X7UdL/elFRaqXAyHKVI3\\r\\n\\tl4m2224FSt7RI+XzKGVhNo00eBNDn+PFncm6rMXlb1paoN0IMzmEDYbjFJsl3BhbjCekgk\\r\\n\\tW1208tXwg4oN4b1Pjdq8SUITVQZhAF4cQ=\\r\\nReceived: by filterdrecv-6d55674f9c-99j9m with SMTP id filterdrecv-6d55674f9c-99j9m-1-64FBC113-1A\\r\\n        2023-09-09 00:49:23.703043174 +0000 UTC m=+10458569.587441911\\r\\nReceived: from MzYxMjY3 (unknown)\\r\\n\\tby geopod-ismtpd-12 (SG) with HTTP\\r\\n\\tid 7Q31MtwZQquC_Agu1O3CCg\\r\\n\\tSat, 09 Sep 2023 00:49:23.682 +0000 (UTC)\\r\\nContent-Transfer-Encoding: quoted-printable\\r\\nContent-Type: text/html; charset=utf-8\\r\\nDate: Sat, 09 Sep 2023 00:49:23 +0000 (UTC)\\r\\nFrom: Glassdoor Jobs <noreply@glassdoor.com>\\r\\nMime-Version: 1.0\\r\\nMessage-ID: <7Q31MtwZQquC_Agu1O3CCg@geopod-ismtpd-12>\\r\\nSubject: You\\'d be a great fit for this Manufacturing Engineering Data\\r\\n Scientist role at Airbus!\\r\\nReply-To: Glassdoor <noreply@glassdoor.com>\\r\\nX-Feedback-ID: 361267:SG\\r\\nX-SG-EID: \\r\\n =?us-ascii?Q?T9IdBIJJ4HI8S9gbGgRKhdvdMtOxW9z8bEwicbtXtPgoPm4GLqXItdrdPyz0SQ?=\\r\\n =?us-ascii?Q?STv1k3jepZLk=2FMFwx0jrmK4L6MMF5kplTQUx1Av?=\\r\\n =?us-ascii?Q?mzjo62ZhVlvwHY7qnLlyZwU4eOG4a60BE2k9WAO?=\\r\\n =?us-ascii?Q?rZ=2FY78wDdgSJSXPauXhfSEpIRCAu=2FhsgQTYkllS?=\\r\\n =?us-ascii?Q?uMVSmHXKtNeG8OlUk0hhby+gnuJokFjFma7+rZQ?=\\r\\n =?us-ascii?Q?dTr8xvgJ5uY2dyuWC6VVQhM5+FbMh7jhAZLa9e?=\\r\\nX-SG-ID: \\r\\n =?us-ascii?Q?N2C25iY2uzGMFz6rgvQsbztao8jd5KR=2FxzCNJzTGoasb+RNQMqJ8FR2wMi023K?=\\r\\n =?us-ascii?Q?yU6ekU1IVVryeBEMHojFHZaNznDbITvVCgExVtj?=\\r\\n =?us-ascii?Q?btEuEsNy92RvdFEdiKgymREQ4=2FzSBkDc4gFFsas?=\\r\\n =?us-ascii?Q?K+iXpzCxDb=2F2gJc+wRhgteR5UtzpRihpE8PUcIn?=\\r\\n =?us-ascii?Q?+7BJ1ZgLGhi99t68ACWcC0UlAo3piGlfQsBK5no?=\\r\\n =?us-ascii?Q?=2FUIfHsJ899wOdMw4ye7bU7i8PJTydI51aDiH6cw?=\\r\\n =?us-ascii?Q?QB7PIlV+QzWp5GbMI28fg=3D=3D?=\\r\\nTo: bunoujr@gmail.com\\r\\nX-Entity-ID: 3VjuPFUzwNK607OE0OaELw==\\r\\n\\r\\n<!doctype html PUBLIC \"-//W3C//DTD XHTML 1.0 Transitional//EN\" \"http://www.=\\r\\nw3.org/TR/xhtml1/DTD/xhtml1-transitional.dtd\">\\r\\n    <html xmlns=3D\"http://www.w3.org/1999/xhtml\">\\r\\n        <head>\\r\\n            <meta http-equiv=3D\"Content-Type\" content=3D\"text/html; charset=\\r\\n=3Dutf-8\">\\r\\n            <meta name=3D\"format-detection\" content=3D\"telephone=3Dno\">\\r\\n            <meta name=3D\"format-detection\" content=3D\"address=3Dno\">\\r\\n            <meta name=3D\"x-apple-disable-message-reformatting\">\\r\\n            <link href=3D\"https://fonts.googleapis.com/css?family=3DLato:40=\\r\\n0,700,900\" rel=3D\"stylesheet\" type=3D\"text/css\">\\r\\n            <!--[if mso]>\\r\\n            <style type=3D\"text/css\">\\r\\n            body, table, td {font-family: Arial, Helvetica, sans-serif !imp=\\r\\nortant;}\\r\\n            </style>\\r\\n            <![endif]-->\\r\\n            <style>\\r\\n                body {\\r\\n                  margin: 0;\\r\\n                }\\r\\n                .css-l1mraf{max-width:500px;width:500px;margin:0 auto;backg=\\r\\nround-color:#fff;text-align:left;}.css-9th5vf{color:#1861bf;}a.cleanBoldLin=\\r\\nk{font-family:Glassdoor Sans,SF Pro,Segoe UI,Roboto,Arial,Helvetica,sans-se=\\r\\nrif;font-weight:bold;-webkit-text-decoration:none;text-decoration:none;colo=\\r\\nr:#1861bf;}a.clearLink{color:#1861bf;-webkit-text-decoration:none;text-deco=\\r\\nration:none;}.buttonCenterspeciallg{font-family:Arial,Helvetica,sans-serif =\\r\\n!important;font-weight:600;font-size:14px;color:#000000 !important;white-sp=\\r\\nace:nowrap;}.buttonCentersecondarysm{font-family:Arial,Helvetica,sans-serif=\\r\\n !important;font-weight:600;font-size:14px;color:#000000 !important;white-s=\\r\\npace:nowrap;}.css-uegzbq{font-family:Lato,Arial,Helvetica,sans-serif;margin=\\r\\n:0;padding:0;font-size:18px;font-weight:normal;font-stretch:normal;font-sty=\\r\\nle:normal;line-height:28px;-webkit-letter-spacing:normal;-moz-letter-spacin=\\r\\ng:normal;-ms-letter-spacing:normal;letter-spacing:normal;color:#505863;}.cs=\\r\\ns-uegzbq,.css-uegzbq *{font-family:Lato,Arial,Helvetica,sans-serif;}.css-1k=\\r\\nbqv69{width:100%;background-color:#f5f6f7;text-align:center;}.css-1iuszfz{p=\\r\\nadding-top:35px;border-top:1px solid transparent;border-left:1px solid tran=\\r\\nsparent;border-right:1px solid transparent;padding-left:24px;padding-right:=\\r\\n24px;padding-bottom:30px;width:100%;}a.cleanBoldLink{font-family:Arial,Helv=\\r\\netica,sans-serif !important;font-weight:bold;-webkit-text-decoration:none;t=\\r\\next-decoration:none;color:#1861bf;}.css-1lzwd0f{padding-left:24px;padding-r=\\r\\night:24px;padding-top:0px;padding-bottom:10px;border-left:1px solid transpa=\\r\\nrent;border-right:1px solid transparent;}.css-mr51ch{padding-left:24px;padd=\\r\\ning-right:24px;padding-top:0px;padding-bottom:30px;border-left:1px solid tr=\\r\\nansparent;border-right:1px solid transparent;}img.fishbowlLogoSmall{height:=\\r\\n18px;vertical-align:text-top;}.buttonCentersecondarydefault{font-family:Ari=\\r\\nal,Helvetica,sans-serif !important;font-weight:bold;font-size:15px;color:#1=\\r\\n861bf !important;}.css-1of8vp0{border-bottom:1px solid transparent;border-l=\\r\\neft:1px solid transparent;border-right:1px solid transparent;}.css-h4js8e{p=\\r\\nadding:16px 24px;font-size:12px;background:#20262e;}.css-h4js8e a.footerLin=\\r\\nk{color:#fff;-webkit-text-decoration:underline;text-decoration:underline;wh=\\r\\nite-space:nowrap;}.css-13db5os{color:#fff;line-height:20px;margin:0;margin-=\\r\\ntop:0;margin-bottom:0;text-align:center;}a.css-1mtfgd0{color:#fff;-webkit-t=\\r\\next-decoration:underline;text-decoration:underline;white-space:nowrap;}.css=\\r\\n-wntx7f{padding-left:24px;padding-right:24px;padding-top:0px;padding-bottom=\\r\\n:0px;text-align:center;border-left:1px solid transparent;border-right:1px s=\\r\\nolid transparent;}.css-19rvsjj{color:#20262e;font-size:20px;line-height:32p=\\r\\nx;}.css-w9kln1{padding-left:24px;padding-right:24px;padding-top:16px;paddin=\\r\\ng-bottom:0px;text-align:center;border-left:1px solid transparent;border-rig=\\r\\nht:1px solid transparent;}.css-1aj2084{color:#505863;font-weight:400;font-s=\\r\\nize:15px;}.css-affnme{padding-left:24px;padding-right:24px;padding-top:16px=\\r\\n;padding-bottom:0px;border-left:1px solid transparent;border-right:1px soli=\\r\\nd transparent;}.css-1irtg88{border:1px solid #dee0e3;box-shadow:0px 8px 10p=\\r\\nx rgba(133,140,148,0.4);border-radius:6px;padding-top:8px;padding-bottom:8p=\\r\\nx;}.css-g4hj0a{padding-left:16px;padding-right:16px;padding-top:0px;padding=\\r\\n-bottom:0px;}.css-1nw9wi0 table.jobTable{min-width:100%;}.css-1nw9wi0 table=\\r\\n.jobTable tr{min-width:100%;}.css-e7el83{padding-bottom:16px;padding-top:16=\\r\\npx;line-height:20px;font-size:15px;border-bottom:1px solid #dee0e3;border-b=\\r\\nottom:none;}.css-1ckyvhk{padding-right:16px;padding-top:2px;vertical-align:=\\r\\ntop;min-width:34px;width:34px;}.css-1nuvpo1{width:32px;height:32px;border:1=\\r\\npx solid #dee0e3;}.css-17mvg0y{color:#0caa41;white-space:nowrap;padding-top=\\r\\n:4px;font-size:12px;width:100%;}.css-dgh53j{color:#1861bf;-webkit-text-deco=\\r\\nration:none;text-decoration:none;}.css-10qqdaw{font-weight:bold;color:#1861=\\r\\nbf;}.css-forujw{color:#20262e;}.css-56kyx5{color:#505863;}.css-1af37x6{colo=\\r\\nr:#0caa41;font-size:12px;}.css-1amabol{padding-left:0px;padding-right:0px;p=\\r\\nadding-top:8px;padding-bottom:8px;}.css-ip60z3{height:0px;border:none;margi=\\r\\nn:0;padding:0;width:100%;border-top:1px solid #dee0e3;}.css-ajg96n{padding-=\\r\\nleft:16px;padding-right:16px;padding-top:8px;padding-bottom:8px;}.css-cjhdv=\\r\\nn{font-weight:700;font-size:15px;line-height:24px;color:#000000;}.css-nyr75=\\r\\nu{font-weight:400;font-size:15px;line-height:24px;color:#505863;}.css-z50bx=\\r\\nj{padding-left:16px;padding-right:0px;padding-top:8px;padding-bottom:8px;}.=\\r\\ncss-1f3wgmc{padding-left:8px;padding-right:16px;padding-top:8px;padding-bot=\\r\\ntom:8px;}.css-1jr8ali{padding-left:24px;padding-right:24px;padding-top:32px=\\r\\n;padding-bottom:20px;text-align:center;border-left:1px solid transparent;bo=\\r\\nrder-right:1px solid transparent;}.buttonCenterprimarydefault{font-family:A=\\r\\nrial,Helvetica,sans-serif !important;font-weight:bold;font-size:15px;color:=\\r\\n#fff !important;}.css-1u9yd6n{border:1px solid transparent;border-radius:3p=\\r\\nx;border-color:transparent;font-weight:bold;font-size:15px;color:#fff !impo=\\r\\nrtant;cursor:pointer;display:inline-block;-webkit-user-select:none;-moz-use=\\r\\nr-select:none;-ms-user-select:none;user-select:none;vertical-align:middle;-=\\r\\nwebkit-transition:color 0.2s ease-out,background-color 0.2s ease-out,border=\\r\\n-color 0.2s ease-out;transition:color 0.2s ease-out,background-color 0.2s e=\\r\\nase-out,border-color 0.2s ease-out;font-family:Lato,Arial,Helvetica,sans-se=\\r\\nrif;white-space:nowrap;overflow:hidden;text-overflow:ellipsis;min-width:88p=\\r\\nx;-webkit-text-decoration:none;text-decoration:none;line-height:24px;border=\\r\\n-style:solid;width:327px;text-align:center;mso-hide:all;color:#fff !importa=\\r\\nnt;background-color:#1861bf;padding:7px 16px;font-size:15px;line-height:24p=\\r\\nx;}.css-1u9yd6n:focus{outline:0;}.css-1u9yd6n:link,.css-1u9yd6n:visited{col=\\r\\nor:#fff;}@media not all and (pointer:coarse){.css-1u9yd6n:hover{background-=\\r\\ncolor:#0c4085;border-color:#0c4085;color:#fff !important;}}.css-1u9yd6n[dis=\\r\\nabled]{background-color:#abccf7;cursor:not-allowed;}.css-2ndcqn{padding-lef=\\r\\nt:24px;padding-right:24px;padding-top:0px;padding-bottom:24px;border-left:1=\\r\\npx solid transparent;border-right:1px solid transparent;}.css-kh5y0v{font-s=\\r\\nize:12px;color:#20262e;line-height:18px;}.css-1n8osad{padding-left:24px;pad=\\r\\nding-right:24px;padding-top:20px;padding-bottom:30px;border-left:1px solid =\\r\\ntransparent;border-right:1px solid transparent;}.css-as6s6y{font-size:15px;=\\r\\nline-height:24px;text-align:center;font-weight:bold;color:#0d0d0d;}.css-uod=\\r\\nor8{border-radius:50%;}.css-1wb7a67{padding-top:20px;font-size:16px;text-al=\\r\\nign:center;vertical-align:top;}.css-82vzv1{padding-bottom:10px;color:#222;f=\\r\\nont-size:15px;font-weight:bold;text-align:center;}.css-4cxybv{padding-botto=\\r\\nm:8px;}.css-1ovx20h{padding-bottom:8px;color:#666666;font-size:16px;}img.fi=\\r\\nshbowlLogoSmall{width:63px;vertical-align:text-top;}.buttonCenterprimarymar=\\r\\nketing{font-family:Arial,Helvetica,sans-serif !important;font-weight:bold;f=\\r\\nont-size:18px;color:#fff !important;}.buttonCenterspecialdefault{font-famil=\\r\\ny:Arial,Helvetica,sans-serif !important;font-weight:bold;font-size:15px;col=\\r\\nor:#fff !important;}\\r\\n            </style>\\r\\n        </head>\\r\\n        <body id=3D\"GDEmail\">\\r\\n            <span style=3D\"display:none\">Apply Now!</span><div id=3D\"GDEmai=\\r\\nlWrapper\" class=3D\"css-uegzbq e2c2s610\"><table cellSpacing=3D\"0\" cellPaddin=\\r\\ng=3D\"0\" color=3D\"#f5f6f7\" class=3D\"css-1kbqv69 e2c2s614\"><tr><td><table cel=\\r\\nlSpacing=3D\"0\" cellPadding=3D\"0\" class=3D\"css-l1mraf e2c2s613\"><tr><td colS=\\r\\npan=3D\"3\" style=3D\"text-align:center\" class=3D\"css-1iuszfz e2c2s611\"><a cla=\\r\\nss=3D\"css-9th5vf ep11te10\" href=3D\"https://www.glassdoor.co.uk\" target=3D\"_=\\r\\nblank\" universal=3D\"true\"><img src=3D\"https://www.glassdoor.com/crs/mail/lo=\\r\\ngos/glassdoor_tng_logo_green.png\" alt=3D\"Glassdoor\" title=3D\"Glassdoor\" hei=\\r\\nght=3D\"30\" width=3D\"143\"/></a></td></tr><tr><td colSpan=3D\"3\" class=3D\"css-=\\r\\nwntx7f ep11te12\"><h2 class=3D\"css-19rvsjj e1cy7kc00\">Shaakir, we=E2=80=99ve=\\r\\n found a potential match!</h2></td></tr><tr><td colSpan=3D\"3\" class=3D\"css-=\\r\\nw9kln1 ep11te12\"><span class=3D\"css-1aj2084 e1cy7kc01\">You were matched bas=\\r\\ned on your activity with data scientist roles.</span></td></tr><tr><td colS=\\r\\npan=3D\"3\" class=3D\"css-affnme ep11te12\"><table cellPadding=3D\"0\" cellSpacin=\\r\\ng=3D\"0\" class=3D\"css-1irtg88 e1cy7kc09\"><tr><td colSpan=3D\"2\" class=3D\"css-=\\r\\ng4hj0a e1cy7kc010\"><table cellPadding=3D\"0\" cellSpacing=3D\"0\" height=3D\"100=\\r\\n%\" width=3D\"100%\" class=3D\"css-1nw9wi0 elptbf70\"><tbody><tr><td class=3D\"te=\\r\\nst-job-listing css-e7el83 elptbf72\"><table cellSpacing=3D\"0\" cellPadding=3D=\\r\\n\"0\" border=3D\"0\" width=3D\"100%\" class=3D\"jobTable\"><tr><td class=3D\"css-1ck=\\r\\nyvhk elptbf73\"><a href=3D\"https://www.glassdoor.co.uk/partner/jobListing.ht=\\r\\nm?pos=3D101&amp;ao=3D1110586&amp;s=3D154&amp;guid=3D0000018a73e92d80a22e8cc=\\r\\n912a0b1a3&amp;src=3DGD_JOB_AD&amp;t=3DREC_JOBS&amp;vt=3De&amp;uido=3D4712B6=\\r\\n39FB7D7880C765542580807D7F&amp;cs=3D1_089af598&amp;cb=3D1694220563481&amp;j=\\r\\nobListingId=3D1008850899120&amp;cpc=3DB076152010A3B66C&amp;jrtk=3D5-yul1-1-=\\r\\n1h9rmkcmhje0n801-3076b549f029b2a8---6NYlbfkN0AsUgdLzaXwFXrf1g61yIeM9D_2ZJul=\\r\\nholzFUjnQRQEAxoFI5aCYqW6EurqKzCHEfOgEfyHurPYfLZzWnQhODauA0kcQVAz3rWakswro7D=\\r\\nV60GFVPytFSB_56Hy4kAYm40pt94MaUDQZuU5uI7Jsw7ZNtxqiVNzlTk49CxJ493UVC2tBngEex=\\r\\nTJqlCQNXfzvuVI0nGz-ffbRLTLIOaz71y6i61qyG4JgEuriQDbjwdxN0sRLzjWR19WM0cbwMdjv=\\r\\n18QSzLeVKwpahjzhQwBZzcBpvbkmHO9yYYo7YcRfCqaCPIcR1VUDFn7TrpMvcU3amMZp3a4P71t=\\r\\nBkCHUJLTdBwZ43W5dUzNS_fw6QkAazl8XMaCWxqYsdyd1f3zgUNq_wW0FXXNuDzIJUdgScWr8je=\\r\\n7Ljjnb8SzzVLjjodrBzShssq1XHWYmirNZUWFPQ-WGtHiPQFIqdBjppUOqGyv-rn7tWLM5lgvnR=\\r\\nRxUmImw9LL4X0KiwkSG3aUvaCAO07SDotVlzMxgSAf3No1uO9B6ydevtx4FdKayZBpCJ0mFf7Oj=\\r\\n9lMctv8d_SV&amp;utm_medium=3Demail&amp;utm_source=3DinviteToApply&amp;utm_c=\\r\\nampaign=3DinviteToApply&amp;utm_content=3Dinvite-to-apply-inviteToApply-job=\\r\\npos1-1008850899120\"><img class=3D\"logo css-1nuvpo1 elptbf74\" width=3D\"32\" h=\\r\\neight=3D\"32\" src=3D\"https://media.glassdoor.com/sql/3059/airbus-squareLogo-=\\r\\n1670837642457.png?utm_medium=3Demail&amp;utm_source=3DinviteToApply&amp;utm=\\r\\n_campaign=3DinviteToApply&amp;utm_content=3Dinvite-to-apply-inviteToApply-j=\\r\\nobpos1-1008850899120\" alt=3D\"Airbus\" title=3D\"Airbus\"/></a><img height=3D\"0=\\r\\n\" width=3D\"0\" src=3D\"https://www.glassdoor.co.uk/brand-views?o=3Dbrandview-=\\r\\npixel&amp;p=3DeyJhbGciOiJIUzUxMiJ9.eyJpYXQiOjE2OTQyMjA1NjMsImp0aSI6IjM3YTVk=\\r\\nY2MyLWQxODAtNGI1Zi05NzRmLWExZmVkNWY3ODQ3MiIsImVtcGlkIjozMDU5LCJ1aWQiOjI2NDk=\\r\\nxOTIxOCwiYWRhdHRyIjp7ImpvYl9saXN0aW5nX2lkIjoiMTAwODg1MDg5OTEyMCJ9LCJidm5hbW=\\r\\nUiOiJpbnZpdGUtdG8tYXBwbHktZW1haWwtam9iLWxpc3RpbmciLCJ0bGQiOjIsImJ2dHlwZSI6I=\\r\\nkJSQU5EIiwiYnZjaGFuIjoiRU1BSUwifQ.UBMTC2lCiMP04A_j6cuEbS_2gvEVydeeR9aDNoYFw=\\r\\nGz7QHdQoKeCzL3VdevLyC_0Szguz4GiSwa0rh8G8AuweA\" alt=3D\"\"/><table cellPadding=\\r\\n=3D\"0\" cellSpacing=3D\"0\" width=3D\"100%\" class=3D\"css-17mvg0y elptbf71\"><tr>=\\r\\n<td valign=3D\"top\" align=3D\"center\">4.1<!-- --> <!-- -->=E2=98=85</td></tr>=\\r\\n</table></td><td valign=3D\"top\"><a href=3D\"https://www.glassdoor.co.uk/part=\\r\\nner/jobListing.htm?pos=3D101&amp;ao=3D1110586&amp;s=3D154&amp;guid=3D000001=\\r\\n8a73e92d80a22e8cc912a0b1a3&amp;src=3DGD_JOB_AD&amp;t=3DREC_JOBS&amp;vt=3De&=\\r\\namp;uido=3D4712B639FB7D7880C765542580807D7F&amp;cs=3D1_089af598&amp;cb=3D16=\\r\\n94220563481&amp;jobListingId=3D1008850899120&amp;cpc=3DB076152010A3B66C&amp=\\r\\n;jrtk=3D5-yul1-1-1h9rmkcmhje0n801-3076b549f029b2a8---6NYlbfkN0AsUgdLzaXwFXr=\\r\\nf1g61yIeM9D_2ZJulholzFUjnQRQEAxoFI5aCYqW6EurqKzCHEfOgEfyHurPYfLZzWnQhODauA0=\\r\\nkcQVAz3rWakswro7DV60GFVPytFSB_56Hy4kAYm40pt94MaUDQZuU5uI7Jsw7ZNtxqiVNzlTk49=\\r\\nCxJ493UVC2tBngEexTJqlCQNXfzvuVI0nGz-ffbRLTLIOaz71y6i61qyG4JgEuriQDbjwdxN0sR=\\r\\nLzjWR19WM0cbwMdjv18QSzLeVKwpahjzhQwBZzcBpvbkmHO9yYYo7YcRfCqaCPIcR1VUDFn7Trp=\\r\\nMvcU3amMZp3a4P71tBkCHUJLTdBwZ43W5dUzNS_fw6QkAazl8XMaCWxqYsdyd1f3zgUNq_wW0FX=\\r\\nXNuDzIJUdgScWr8je7Ljjnb8SzzVLjjodrBzShssq1XHWYmirNZUWFPQ-WGtHiPQFIqdBjppUOq=\\r\\nGyv-rn7tWLM5lgvnRRxUmImw9LL4X0KiwkSG3aUvaCAO07SDotVlzMxgSAf3No1uO9B6ydevtx4=\\r\\nFdKayZBpCJ0mFf7Oj9lMctv8d_SV&amp;utm_medium=3Demail&amp;utm_source=3Dinvite=\\r\\nToApply&amp;utm_campaign=3DinviteToApply&amp;utm_content=3Dinvite-to-apply-=\\r\\ninviteToApply-jobpos1-1008850899120\" class=3D\"css-dgh53j elptbf76\"><table c=\\r\\nellSpacing=3D\"0\" cellPadding=3D\"0\" border=3D\"0\" width=3D\"100%\" class=3D\"css=\\r\\n-10qqdaw elptbf77\" style=3D\"padding:0px\"><tr><td class=3D\"css-10qqdaw elptb=\\r\\nf77\" style=3D\"margin:0px\">Manufacturing Engineering Data Scientist</td></tr=\\r\\n></table><span class=3D\"css-forujw elptbf78\">Airbus<!-- -->=C2=A0-=C2=A0</s=\\r\\npan><span class=3D\"css-56kyx5 elptbf79\">Broughton, North Yorkshire, Yorkshi=\\r\\nre and the Humber, England</span><table cellSpacing=3D\"0\" cellPadding=3D\"0\"=\\r\\n border=3D\"0\" width=3D\"100%\" class=3D\"css-1af37x6 elptbf710\" style=3D\"paddi=\\r\\nng:0px\"><tr><td class=3D\"css-1af37x6 elptbf710\" style=3D\"margin:0px\">GBP=C2=\\r\\n=A029K - GBP=C2=A039K (Glassdoor est.)</td></tr></table></a><div class=3D\"c=\\r\\nss-kh5y0v elptbf712\">HIGHLY RATED<!-- -->:=C2=A0<!-- -->Work/Life Balance<!=\\r\\n-- -->, <!-- -->Culture &amp; Values</div></td></tr></table></td></tr></tbo=\\r\\ndy></table></td></tr><tr><td colSpan=3D\"2\" class=3D\"css-1amabol e1cy7kc010\"=\\r\\n><table cellSpacing=3D\"0\" cellPadding=3D\"0\" border=3D\"0\" width=3D\"100%\" cla=\\r\\nss=3D\"css-ip60z3 ep11te14\" style=3D\"padding:0px\"><tr><td class=3D\"css-ip60z=\\r\\n3 ep11te14\" style=3D\"margin:0px\"></td></tr></table></td></tr><tr><td colSpa=\\r\\nn=3D\"2\" class=3D\"css-ajg96n e1cy7kc010\"><span class=3D\"css-cjhdvn e1cy7kc01=\\r\\n2\">Description Preview</span></td></tr><tr><td colSpan=3D\"2\" class=3D\"css-a=\\r\\njg96n e1cy7kc010\"><span class=3D\"css-nyr75u e1cy7kc013\">About us\\r\\nAirbus pioneers sustainable aerospace for a safe and united world. The Comp=\\r\\nany constantly innovates to provide efficient and technologically-advanced =\\r\\nsolutions in aerospace, defence, and c...</span></td></tr><tr><td colSpan=\\r\\n=3D\"2\" class=3D\"css-1amabol e1cy7kc010\"><table cellSpacing=3D\"0\" cellPaddin=\\r\\ng=3D\"0\" border=3D\"0\" width=3D\"100%\" class=3D\"css-ip60z3 ep11te14\" style=3D\"=\\r\\npadding:0px\"><tr><td class=3D\"css-ip60z3 ep11te14\" style=3D\"margin:0px\"></t=\\r\\nd></tr></table></td></tr><tr><td class=3D\"css-z50bxj e1cy7kc010\"><span clas=\\r\\ns=3D\"css-cjhdvn e1cy7kc015\">Job Type</span></td><td class=3D\"css-1f3wgmc e1=\\r\\ncy7kc010\"><span class=3D\"css-nyr75u e1cy7kc016\">Full Time</span></td></tr><=\\r\\ntr><td class=3D\"css-z50bxj e1cy7kc010\"><span class=3D\"css-cjhdvn e1cy7kc015=\\r\\n\">Size</span></td><td class=3D\"css-1f3wgmc e1cy7kc010\"><span class=3D\"css-n=\\r\\nyr75u e1cy7kc016\">10000+ employees</span></td></tr><tr><td class=3D\"css-z50=\\r\\nbxj e1cy7kc010\"><span class=3D\"css-cjhdvn e1cy7kc015\">Company Type</span></=\\r\\ntd><td class=3D\"css-1f3wgmc e1cy7kc010\"><span class=3D\"css-nyr75u e1cy7kc01=\\r\\n6\">Company - Public</span></td></tr><tr><td class=3D\"css-z50bxj e1cy7kc010\"=\\r\\n><span class=3D\"css-cjhdvn e1cy7kc015\">Sector</span></td><td class=3D\"css-1=\\r\\nf3wgmc e1cy7kc010\"><span class=3D\"css-nyr75u e1cy7kc016\">Aerospace &amp; De=\\r\\nfence</span></td></tr></table></td></tr><tr><td colSpan=3D\"3\" class=3D\"css-=\\r\\n1jr8ali ep11te12\"><div><!--[if mso]>\\r\\n                    <v:roundrect xmlns:v=3D\"urn:schemas-microsoft-com:vml\" =\\r\\nxmlns:w=3D\"urn:schemas-microsoft-com:office:word\" style=3D\"height:40px;v-te=\\r\\nxt-anchor:middle;width:327px;\" href=3D\"https://www.glassdoor.co.uk/partner/=\\r\\njobListing.htm?pos=3D101&ao=3D1110586&s=3D154&guid=3D0000018a73e92d80a22e8c=\\r\\nc912a0b1a3&src=3DGD_JOB_AD&t=3DREC_JOBS&vt=3De&uido=3D4712B639FB7D7880C7655=\\r\\n42580807D7F&cs=3D1_089af598&cb=3D1694220563481&jobListingId=3D1008850899120=\\r\\n&cpc=3DB076152010A3B66C&jrtk=3D5-yul1-1-1h9rmkcmhje0n801-3076b549f029b2a8--=\\r\\n-6NYlbfkN0AsUgdLzaXwFXrf1g61yIeM9D_2ZJulholzFUjnQRQEAxoFI5aCYqW6EurqKzCHEfO=\\r\\ngEfyHurPYfLZzWnQhODauA0kcQVAz3rWakswro7DV60GFVPytFSB_56Hy4kAYm40pt94MaUDQZu=\\r\\nU5uI7Jsw7ZNtxqiVNzlTk49CxJ493UVC2tBngEexTJqlCQNXfzvuVI0nGz-ffbRLTLIOaz71y6i=\\r\\n61qyG4JgEuriQDbjwdxN0sRLzjWR19WM0cbwMdjv18QSzLeVKwpahjzhQwBZzcBpvbkmHO9yYYo=\\r\\n7YcRfCqaCPIcR1VUDFn7TrpMvcU3amMZp3a4P71tBkCHUJLTdBwZ43W5dUzNS_fw6QkAazl8XMa=\\r\\nCWxqYsdyd1f3zgUNq_wW0FXXNuDzIJUdgScWr8je7Ljjnb8SzzVLjjodrBzShssq1XHWYmirNZU=\\r\\nWFPQ-WGtHiPQFIqdBjppUOqGyv-rn7tWLM5lgvnRRxUmImw9LL4X0KiwkSG3aUvaCAO07SDotVl=\\r\\nzMxgSAf3No1uO9B6ydevtx4FdKayZBpCJ0mFf7Oj9lMctv8d_SV&utm_medium=3Demail&utm_=\\r\\nsource=3DinviteToApply&utm_campaign=3DinviteToApply&utm_content=3Dinvite-to=\\r\\n-apply-inviteToApply-jobpos1-1008850899120\" arcsize=3D\"7%\" fillcolor=3D\"#18=\\r\\n61bf\" strokecolor=3D\"undefined\">\\r\\n                    <w:anchorlock/>\\r\\n                    <center class=3D\"buttonCenterprimarydefault\">\\r\\n                    <div style=3D\"display: none;\"></div>See Full Job Listin=\\r\\ng<div style=3D\"display:none\"></div>\\r\\n                        </center>\\r\\n                    </v:roundrect>\\r\\n                    <![endif]--></div><a href=3D\"https://www.glassdoor.co.u=\\r\\nk/partner/jobListing.htm?pos=3D101&amp;ao=3D1110586&amp;s=3D154&amp;guid=3D=\\r\\n0000018a73e92d80a22e8cc912a0b1a3&amp;src=3DGD_JOB_AD&amp;t=3DREC_JOBS&amp;v=\\r\\nt=3De&amp;uido=3D4712B639FB7D7880C765542580807D7F&amp;cs=3D1_089af598&amp;c=\\r\\nb=3D1694220563481&amp;jobListingId=3D1008850899120&amp;cpc=3DB076152010A3B6=\\r\\n6C&amp;jrtk=3D5-yul1-1-1h9rmkcmhje0n801-3076b549f029b2a8---6NYlbfkN0AsUgdLz=\\r\\naXwFXrf1g61yIeM9D_2ZJulholzFUjnQRQEAxoFI5aCYqW6EurqKzCHEfOgEfyHurPYfLZzWnQh=\\r\\nODauA0kcQVAz3rWakswro7DV60GFVPytFSB_56Hy4kAYm40pt94MaUDQZuU5uI7Jsw7ZNtxqiVN=\\r\\nzlTk49CxJ493UVC2tBngEexTJqlCQNXfzvuVI0nGz-ffbRLTLIOaz71y6i61qyG4JgEuriQDbjw=\\r\\ndxN0sRLzjWR19WM0cbwMdjv18QSzLeVKwpahjzhQwBZzcBpvbkmHO9yYYo7YcRfCqaCPIcR1VUD=\\r\\nFn7TrpMvcU3amMZp3a4P71tBkCHUJLTdBwZ43W5dUzNS_fw6QkAazl8XMaCWxqYsdyd1f3zgUNq=\\r\\n_wW0FXXNuDzIJUdgScWr8je7Ljjnb8SzzVLjjodrBzShssq1XHWYmirNZUWFPQ-WGtHiPQFIqdB=\\r\\njppUOqGyv-rn7tWLM5lgvnRRxUmImw9LL4X0KiwkSG3aUvaCAO07SDotVlzMxgSAf3No1uO9B6y=\\r\\ndevtx4FdKayZBpCJ0mFf7Oj9lMctv8d_SV&amp;utm_medium=3Demail&amp;utm_source=3D=\\r\\ninviteToApply&amp;utm_campaign=3DinviteToApply&amp;utm_content=3Dinvite-to-=\\r\\napply-inviteToApply-jobpos1-1008850899120\" target=3D\"_blank\" class=3D\"css-1=\\r\\nu9yd6n ep11te11\">See Full Job Listing</a></td></tr><tr><td colSpan=3D\"3\" cl=\\r\\nass=3D\"css-1n8osad ep11te12\"><table cellSpacing=3D\"0\" cellPadding=3D\"0\" bor=\\r\\nder=3D\"0\" width=3D\"100%\" class=3D\"css-as6s6y e1cy7kc02\" style=3D\"padding:0p=\\r\\nx\"><tr><td class=3D\"css-as6s6y e1cy7kc02\" style=3D\"margin:0px\">See what Gla=\\r\\nssdoor users say</td></tr></table></td></tr><tr><td colSpan=3D\"3\" class=3D\"=\\r\\ncss-mr51ch ep11te12\"><table cellSpacing=3D\"0\" cellPadding=3D\"0\" border=3D\"0=\\r\\n\" width=3D\"100%\"><tr><td width=3D\"33%\" align=3D\"center\"><img src=3D\"https:/=\\r\\n/media.glassdoor.com/email/charts/chart_image_84.png\" alt=3D\"84%\" title=3D\"=\\r\\n84%\" width=3D\"90\"/></td><td width=3D\"33%\" align=3D\"center\"><img src=3D\"http=\\r\\ns://media.glassdoor.com/email/charts/chart_image_91.png\" alt=3D\"91%\" title=\\r\\n=3D\"91%\" width=3D\"90\"/></td><td width=3D\"33%\" align=3D\"center\"><img src=3D\"=\\r\\nhttps://media.glassdoor.com/people/sql/3059/airbus-ceo1557757796518.png\" al=\\r\\nt=3D\"Guillaume Faury\" title=3D\"Guillaume Faury\" width=3D\"90\" class=3D\"css-u=\\r\\nodor8 e1cy7kc03\"/></td></tr><tr><td width=3D\"33%\" class=3D\"css-1wb7a67 e1cy=\\r\\n7kc04\"><span class=3D\"\">Recommend to a friend</span></td><td width=3D\"33%\" =\\r\\nclass=3D\"css-1wb7a67 e1cy7kc04\">Approve of CEO</td><td width=3D\"33%\" class=\\r\\n=3D\"css-1wb7a67 e1cy7kc04\">Guillaume Faury<br/></td></tr></table></td></tr>=\\r\\n<tr><td colSpan=3D\"3\" class=3D\"css-wntx7f ep11te12\"><table cellSpacing=3D\"0=\\r\\n\" cellPadding=3D\"0\" border=3D\"0\" width=3D\"100%\" class=3D\"css-82vzv1 e1cy7kc=\\r\\n06\" style=3D\"padding:0px\"><tr><td class=3D\"css-82vzv1 e1cy7kc06\" style=3D\"m=\\r\\nargin:0px\">Popular Benefits</td></tr></table></td></tr><tr><td colSpan=3D\"3=\\r\\n\" class=3D\"css-1lzwd0f ep11te12\"><table cellSpacing=3D\"0\" cellPadding=3D\"0\"=\\r\\n class=3D\"css-4cxybv e1cy7kc07\"><tr><td width=3D\"24\" class=3D\"css-1ovx20h e=\\r\\n1cy7kc08\"><img src=3D\"http://www.glassdoor.com/crs/mail/icons/checkmark.png=\\r\\n\" alt=3D\"checkmark\" width=3D\"14\"/></td><td class=3D\"css-1ovx20h e1cy7kc08\">=\\r\\nBike to Work Scheme</td></tr><tr><td width=3D\"24\" class=3D\"css-1ovx20h e1cy=\\r\\n7kc08\"><img src=3D\"http://www.glassdoor.com/crs/mail/icons/checkmark.png\" a=\\r\\nlt=3D\"checkmark\" width=3D\"14\"/></td><td class=3D\"css-1ovx20h e1cy7kc08\">Fle=\\r\\nxible Working</td></tr><tr><td width=3D\"24\" class=3D\"css-1ovx20h e1cy7kc08\"=\\r\\n><img src=3D\"http://www.glassdoor.com/crs/mail/icons/checkmark.png\" alt=3D\"=\\r\\ncheckmark\" width=3D\"14\"/></td><td class=3D\"css-1ovx20h e1cy7kc08\">Sick Pay<=\\r\\n/td></tr></table></td></tr><tr><td colSpan=3D\"3\" class=3D\"css-2ndcqn ep11te=\\r\\n12\"></td></tr><tr><td colSpan=3D\"3\" class=3D\"test-footer css-1of8vp0 e2c2s6=\\r\\n12\"><table id=3D\"Footer\" cellPadding=3D\"0\" cellSpacing=3D\"0\" height=3D\"100%=\\r\\n\" width=3D\"100%\" mode=3D\"dark\" class=3D\"css-h4js8e e19qzqau0\"><tbody><tr><t=\\r\\nd mode=3D\"dark\" class=3D\"css-13db5os e19qzqau2\"><span><span class=3D\"\">This=\\r\\n message was sent to=C2=A0 <a class=3D\\'footerLink\\' href=3D\\'mailto:bunoujr@g=\\r\\nmail.com\\' target=3D\\'_blank\\'>bunoujr@gmail.com</a>.</span></span><br/><a mod=\\r\\ne=3D\"dark\" target=3D\"_blank\" href=3D\"https://www.glassdoor.co.uk/about/priv=\\r\\nacy.htm?utm_medium=3Demail&amp;utm_source=3DinviteToApply&amp;utm_campaign=\\r\\n=3DinviteToApply&amp;utm_content=3Dinvite-to-apply-privacy\" class=3D\"css-1m=\\r\\ntfgd0 e19qzqau1\">Privacy Policy</a><span> | </span><a mode=3D\"dark\" target=\\r\\n=3D\"_blank\" href=3D\"https://www.glassdoor.co.uk/member/account/emailSetting=\\r\\ns_input.htm?utm_medium=3Demail&amp;utm_source=3DinviteToApply&amp;utm_campa=\\r\\nign=3DinviteToApply&amp;utm_content=3Dinvite-to-apply-email-preference&amp;=\\r\\nutm_term=3DengageInviteToApplyDefaultTreatment\" class=3D\"css-1mtfgd0 e19qzq=\\r\\nau1\">Manage Settings</a><span> | </span><a mode=3D\"dark\" target=3D\"_blank\" =\\r\\nhref=3D\"https://www.glassdoor.co.uk/profile/unsubscribeEmail.htm?key=3DyPAa=\\r\\nnmr:IPyGQoECmsLGXlBX7E6WTQ&amp;emailType=3DINVITE_TO_APPLY&amp;emailCategor=\\r\\ny=3DINVITE_TO_APPLY&amp;encryptedUserId=3D4712B639FB7D7880C765542580807D7F&=\\r\\namp;utm_medium=3Demail&amp;utm_source=3DinviteToApply&amp;utm_campaign=3Din=\\r\\nviteToApply&amp;utm_content=3Dinvite-to-apply-unsubscribe&amp;utm_term=3Den=\\r\\ngageInviteToApplyDefaultTreatment\" class=3D\"css-1mtfgd0 e19qzqau1\">Unsubscr=\\r\\nibe</a><br/><br/><span><a mode=3D\"dark\" target=3D\"_blank\" href=3D\"https://w=\\r\\nww.glassdoor.co.uk?utm_medium=3Demail&amp;utm_source=3DinviteToApply&amp;ut=\\r\\nm_campaign=3DinviteToApply&amp;utm_content=3Dinvite-to-apply\" class=3D\"css-=\\r\\n1mtfgd0 e19qzqau1\">Glassdoor</a></span><br/>300 Mission Street, 16th Floor,=\\r\\n San Francisco, CA 94105<br/><br/><span>Copyright =C2=A9 2008-2023, Glassdo=\\r\\nor, Inc. &quot;Glassdoor&quot; and logo are registered trademarks of Glassd=\\r\\noor, Inc.</span><br/></td></tr></tbody></table></td></tr></table></td></tr>=\\r\\n</table></div>\\r\\n        <img src=3D\"https://mail8.glassdoor.com/wf/open?upn=3Di0RVzDyUZOCpm=\\r\\nlqANQy8ZPbGqp-2Fjkp2-2BWPnvReG8kloihOsLjm-2BHJhBcWiSp5YZnBBRC5oYx4EnuhpPbFr=\\r\\nqvyqGVW2dwKp7XWx4B2sWk1kjIQaXk3Zgvn4yCUNkx8xVrF8ARasyBQqPUI8PAGgeSuXak-2Buy=\\r\\nxw-2BwtrelnBcbw02cy2IxOePvQNDpiVxyj-2FUW-2FCPmdUOY0WsGXHZgV3Fu8WQgjLOQ6TQvU=\\r\\nNnfssG5YGpCLZbzZsv7WifoHaVzO-2BFup-2FdduI9MpRdEhd20w80X8pBP2kfaXDAKMlzlp2EQ=\\r\\ndVBjFcesqWY-2Fku-2F-2BaZuYSQA-2BFMuNNc2KC8sxz91yehkq0ufG17gQx3A4-2BfaLYlqDQ=\\r\\nQwgvWtG6-2Bzt6LWngNdGvHnmwFd7OXWKy8tym-2BJfAEgiHOrHMg9n1NYa3YDsG0Haa-2BzCRi=\\r\\nBzHpnBjbBBXpCvHTZDmBmVDP3-2F2I1UQUg7i8lguQw-3D-3D\" alt=3D\"\" width=3D\"1\" hei=\\r\\nght=3D\"1\" border=3D\"0\" style=3D\"height:1px !important;width:1px !important;=\\r\\nborder-width:0 !important;margin-top:0 !important;margin-bottom:0 !importan=\\r\\nt;margin-right:0 !important;margin-left:0 !important;padding-top:0 !importa=\\r\\nnt;padding-bottom:0 !important;padding-right:0 !important;padding-left:0 !i=\\r\\nmportant;\"/></body>\\r\\n    </html>\\r\\n'),\n",
       " b')']"
      ]
     },
     "execution_count": 32,
     "metadata": {},
     "output_type": "execute_result"
    }
   ],
   "source": [
    "email_data"
   ]
  },
  {
   "cell_type": "code",
   "execution_count": 58,
   "id": "6a27a9f3",
   "metadata": {},
   "outputs": [],
   "source": [
    "raw_email = email_data[0][0]"
   ]
  },
  {
   "cell_type": "code",
   "execution_count": 59,
   "id": "40604af0",
   "metadata": {},
   "outputs": [],
   "source": [
    "raw_email_string = raw_email.decode(\"utf-8\")"
   ]
  },
  {
   "cell_type": "code",
   "execution_count": 60,
   "id": "245b61fd",
   "metadata": {},
   "outputs": [],
   "source": [
    "import email "
   ]
  },
  {
   "cell_type": "code",
   "execution_count": 61,
   "id": "59edad16",
   "metadata": {},
   "outputs": [],
   "source": [
    "email_message = email.message_from_string(raw_email_string)"
   ]
  },
  {
   "cell_type": "code",
   "execution_count": 62,
   "id": "84ab30d1",
   "metadata": {},
   "outputs": [
    {
     "name": "stdout",
     "output_type": "stream",
     "text": [
      "b'30181 (RFC822 {30676}'\n"
     ]
    }
   ],
   "source": [
    "for part in email_message.walk(): \n",
    "    \n",
    "    if part.get_content_type() == 'text/plain':\n",
    "        body = part.get_payload(decode=True)\n",
    "        print(body)"
   ]
  },
  {
   "cell_type": "code",
   "execution_count": null,
   "id": "dd1de791",
   "metadata": {},
   "outputs": [],
   "source": []
  }
 ],
 "metadata": {
  "kernelspec": {
   "display_name": "Python 3 (ipykernel)",
   "language": "python",
   "name": "python3"
  },
  "language_info": {
   "codemirror_mode": {
    "name": "ipython",
    "version": 3
   },
   "file_extension": ".py",
   "mimetype": "text/x-python",
   "name": "python",
   "nbconvert_exporter": "python",
   "pygments_lexer": "ipython3",
   "version": "3.11.4"
  }
 },
 "nbformat": 4,
 "nbformat_minor": 5
}
